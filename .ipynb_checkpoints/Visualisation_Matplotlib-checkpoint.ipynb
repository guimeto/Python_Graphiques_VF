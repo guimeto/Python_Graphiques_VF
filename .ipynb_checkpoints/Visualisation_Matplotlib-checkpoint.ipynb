{
 "cells": [
  {
   "cell_type": "markdown",
   "metadata": {},
   "source": [
    "<img src=\"./figures/pandas.png\" alt=\"Indentation\" width=\"30%\" height=\"30%\">\n",
    "\n",
    "\n",
    "# Visualisation des données 1: librairie Matplotlib\n",
    "\n",
    "La librairie Matplotlib est l'une des librairies les plus utilisées pour visualiser des données sous Python.\n",
    "\n",
    "De nombreux types de graphiques peuvent être développés avec cette librairie: \n",
    "https://matplotlib.org/gallery/index.html\n",
    "\n",
    "Pour illustrer quelques fonctionnalités de la librairie Matplotlob de Python, on va utiliser une base de données issue de la station de l'UQAM."
   ]
  },
  {
   "cell_type": "code",
   "execution_count": null,
   "metadata": {
    "scrolled": true
   },
   "outputs": [],
   "source": [
    "# utilisation de pd.to_datetime() pour definir l'index sous forme de Datetime\n",
    "import pandas as pd \n",
    "import numpy as np\n",
    "dataframe_UQAM = pd.read_csv('./data/UQAM_DATA_STATION_2018.csv')\n",
    "dataframe_UQAM['Date']=pd.to_datetime(dataframe_UQAM['Date'])\n",
    "dataframe_UQAM = dataframe_UQAM.set_index(\"Date\", drop=True)\n",
    "dataframe_UQAM"
   ]
  },
  {
   "cell_type": "markdown",
   "metadata": {},
   "source": [
    "## Introduction à Matplotlib \n",
    "### conda install matplotlib"
   ]
  },
  {
   "cell_type": "code",
   "execution_count": null,
   "metadata": {
    "collapsed": true
   },
   "outputs": [],
   "source": [
    "% matplotlib inline "
   ]
  },
  {
   "cell_type": "code",
   "execution_count": null,
   "metadata": {
    "collapsed": true
   },
   "outputs": [],
   "source": [
    "import matplotlib.pyplot as plt"
   ]
  },
  {
   "cell_type": "code",
   "execution_count": null,
   "metadata": {},
   "outputs": [],
   "source": [
    "plt.plot() # on crée un graphique vide ou une instance et on ajoute ensuite des couches .\n",
    "plt.show()"
   ]
  },
  {
   "cell_type": "markdown",
   "metadata": {},
   "source": [
    "## Ajouter des données à nos graphiques"
   ]
  },
  {
   "cell_type": "code",
   "execution_count": null,
   "metadata": {},
   "outputs": [],
   "source": [
    "year_to_plot = dataframe_UQAM['2015']\n",
    "plt.plot(year_to_plot.index,year_to_plot['Temperature moyenne'])\n",
    "plt.show()"
   ]
  },
  {
   "cell_type": "code",
   "execution_count": null,
   "metadata": {},
   "outputs": [],
   "source": [
    "year_to_plot = dataframe_UQAM['2015']\n",
    "plt.plot(year_to_plot.index,year_to_plot['Temperature moyenne'], marker='x')\n",
    "plt.show()"
   ]
  },
  {
   "cell_type": "markdown",
   "metadata": {},
   "source": [
    "- Option <b>marker</b> : pour changer les marqueurs\n",
    "\n",
    "https://matplotlib.org/api/markers_api.html\n",
    "\n",
    "- Option <b>linestyle</b>: pour supprimer ou pas les lignes\n"
   ]
  },
  {
   "cell_type": "code",
   "execution_count": null,
   "metadata": {},
   "outputs": [],
   "source": [
    "year_to_plot = dataframe_UQAM['2015']\n",
    "plt.plot(year_to_plot.index,year_to_plot['Temperature moyenne'], marker='x', linestyle=\"\")\n",
    "plt.show()"
   ]
  },
  {
   "cell_type": "markdown",
   "metadata": {},
   "source": [
    "- fonction <b>scatter </b>: fonction permet de créer des nuages de points\n",
    "- pour agrandir la fenêtre graphique: méthode <b>.rcParams</b>"
   ]
  },
  {
   "cell_type": "code",
   "execution_count": null,
   "metadata": {},
   "outputs": [],
   "source": [
    "plt.rcParams[\"figure.figsize\"]=[16,9]       # on veut une figure plus grande\n",
    "plt.scatter(year_to_plot.index,year_to_plot['Temperature moyenne'])\n",
    "plt.show()"
   ]
  },
  {
   "cell_type": "markdown",
   "metadata": {},
   "source": [
    "- pour utiliser l'option de couleur de scatter, python veut une liste en entrée et non un dictionnaire \n",
    "- option couleur : c=list()"
   ]
  },
  {
   "cell_type": "code",
   "execution_count": null,
   "metadata": {},
   "outputs": [],
   "source": [
    "plt.rcParams[\"figure.figsize\"]=[16,9]\n",
    "plt.scatter(year_to_plot.index,year_to_plot['Temperature moyenne'], c=list(year_to_plot['Temperature moyenne']))\n",
    "plt.xlabel(\"Temps\")\n",
    "plt.ylabel(\"Température\")\n",
    "plt.title(\"Évolution de la température\", y=1.05)\n",
    "plt.show()"
   ]
  },
  {
   "cell_type": "markdown",
   "metadata": {},
   "source": [
    "- On a utilisé la couleur par défault de scatter() \n",
    "- avec l'option <b>cmap</b>, on peut choisir notre panel de couleur :  https://matplotlib.org/examples/color/colormaps_reference.html  \n",
    "- on va par exemple choisir la palette de couleur \"seismic\" via l'option <b>cmap</b>\n",
    "- pour changer la forme et la taille des points: utilisation des options <b>marker</b> et <b>s</b>\n",
    "- pour enregistrer un graphique: fonction de pyplot: <b>savefig()</b>\n",
    "- Pour ajouter une barre de couleur: fonction <b>colorbar()</b>\n",
    "- Pour faire une rotation sur les labels en x: fonction <b>xticks()</b>"
   ]
  },
  {
   "cell_type": "code",
   "execution_count": null,
   "metadata": {},
   "outputs": [],
   "source": [
    "plt.rcParams[\"figure.figsize\"]=[16,9]\n",
    "plt.scatter(year_to_plot.index,year_to_plot['Temperature moyenne'], c=list(year_to_plot['Temperature moyenne']),\n",
    "            cmap=\"seismic\",\n",
    "            marker=\"D\", \n",
    "            s=100)\n",
    "plt.xlabel(\"Temps\")\n",
    "plt.ylabel(\"Température\")\n",
    "plt.title(\"Évolution de la température\", y=1.05)\n",
    "plt.colorbar()\n",
    "plt.xticks(rotation=45)\n",
    "plt.show()\n",
    "plt.savefig(\"data/mon_graphique.png\", bbox_inches=\"tight\")   # bbox_inches= : option qui permet de propostionner le graphique lors de l'enregistrement"
   ]
  },
  {
   "cell_type": "markdown",
   "metadata": {},
   "source": [
    "## Classes Matplotlib"
   ]
  },
  {
   "cell_type": "markdown",
   "metadata": {},
   "source": [
    "Lors de la création d'un graphique, matplotlib: \n",
    "- stocke un conteneur pour tous les graphiques\n",
    "- stocke un conteneur pour que le graphique soit positionné sur un grille\n",
    "- stocke les symboles visuels ajoutés sur le graphique"
   ]
  },
  {
   "cell_type": "code",
   "execution_count": null,
   "metadata": {},
   "outputs": [],
   "source": [
    "#axes_object = fig.add_subplot(nrows, ncols, plot_number)"
   ]
  },
  {
   "cell_type": "code",
   "execution_count": null,
   "metadata": {
    "scrolled": true
   },
   "outputs": [],
   "source": [
    "fig = plt.figure()\n",
    "ax1 = fig.add_subplot(2,2,1) # haut et gauche \n",
    "ax2 = fig.add_subplot(2,2,2) # haut et droite\n",
    "ax3 = fig.add_subplot(2,2,3) # bas et gauche\n",
    "ax4 = fig.add_subplot(2,2,4) # bas et droite\n",
    "plt.show()"
   ]
  },
  {
   "cell_type": "markdown",
   "metadata": {},
   "source": [
    "## Ajouter des données"
   ]
  },
  {
   "cell_type": "code",
   "execution_count": null,
   "metadata": {},
   "outputs": [],
   "source": [
    "fig = plt.figure()\n",
    "ax1 = fig.add_subplot(2,1,1) \n",
    "ax2 = fig.add_subplot(2,1,2)\n",
    "\n",
    "ax1.plot(dataframe_UQAM['2017'].index,dataframe_UQAM['2017']['Temperature moyenne'])\n",
    "ax2.plot(dataframe_UQAM['2016'].index,dataframe_UQAM['2016']['Temperature moyenne'])\n"
   ]
  },
  {
   "cell_type": "markdown",
   "metadata": {},
   "source": [
    "## Améliorer l'affichage"
   ]
  },
  {
   "cell_type": "code",
   "execution_count": null,
   "metadata": {
    "collapsed": true
   },
   "outputs": [],
   "source": [
    "# fig = plt.figure(figsize=(width, height))    La dimension est le pouce"
   ]
  },
  {
   "cell_type": "code",
   "execution_count": null,
   "metadata": {},
   "outputs": [],
   "source": [
    "fig = plt.figure(figsize=(15, 8))\n",
    "colors = ['green', 'blue', 'red']\n",
    "for i in range(3):\n",
    "    ax = fig.add_subplot(3,1,i+1)\n",
    "    year = str(2014+i)\n",
    "    label=year\n",
    "    plt.plot(dataframe_UQAM[year].index,dataframe_UQAM[year]['Temperature moyenne'], c=colors[i], label = label)\n",
    "    plt.legend(loc='upper left')\n",
    "plt.show()\n"
   ]
  },
  {
   "cell_type": "markdown",
   "metadata": {},
   "source": [
    "## Pour aller plus loin\n",
    "### Objectifs: tracer un météogramme de la station UQAM pour la journée  du  14/12/2018"
   ]
  },
  {
   "cell_type": "code",
   "execution_count": null,
   "metadata": {},
   "outputs": [],
   "source": [
    "# Lecture des données de la station au format csv\n",
    "import pandas as pd \n",
    "dataframe_UQAM = pd.read_csv('./data/UQAM_DATA_STATION.csv')\n",
    "print(dataframe_UQAM.head())"
   ]
  },
  {
   "cell_type": "code",
   "execution_count": null,
   "metadata": {},
   "outputs": [],
   "source": [
    "dataframe_UQAM2 = pd.read_csv('UQAM_DATA_STATION.csv', parse_dates=[\"Time\"],\n",
    "date_parser=lambda x: pd.to_datetime(x, format=\"%y-%m-%d_%H\"))\n",
    "dataframe_UQAM2.head()\n"
   ]
  },
  {
   "cell_type": "code",
   "execution_count": null,
   "metadata": {},
   "outputs": [],
   "source": [
    "# On va filtrer uniquement les données pour la journée du 14/12/2018\n",
    "start_date = '2018-12-14'\n",
    "end_date = '2018-12-15'\n",
    "df= dataframe_UQAM2\n",
    "mask = (df['Time'] > start_date) & (df['Time'] <= end_date)\n",
    "\n",
    "# On va apppliquer ce masque à notre dataset pour extraire uniquement la période désirée\n",
    "dataframe_jour = dataframe_UQAM2.loc[mask]\n",
    "print(dataframe_jour.head())\n",
    "print(len(dataframe_jour))"
   ]
  },
  {
   "cell_type": "code",
   "execution_count": null,
   "metadata": {},
   "outputs": [],
   "source": [
    "from matplotlib.font_manager import FontProperties\n",
    "import matplotlib.dates as mdates\n",
    "from datetime import datetime\n",
    "from datetime import timedelta as td\n",
    "\n",
    "#Préparation des labels de l'axe des x\n",
    "daylabels = []\n",
    "i = 0 \n",
    "for index, row in dataframe_jour.iterrows():\n",
    "    daylabels.append(dataframe_jour.iloc[i][0].replace(minute=0, second=0, microsecond=0).strftime('%Hh'))\n",
    "    i += 1\n",
    "print(daylabels)\n",
    "\n",
    "start_date = '2018-12-14'\n",
    "end_date = '2018-12-15'\n",
    "fig = plt.figure(figsize=(20, 8))\n",
    "fontP = FontProperties()\n",
    "fontP.set_size('xx-small')\n",
    "t = np.arange(0, 24, 1)\n",
    "##### on trace les températures\n",
    "ax1 = plt.subplot(411)\n",
    "ax1.grid(True)\n",
    "plt.plot(t, dataframe_jour['Temperature'], 'r-', label='Temperature de l\\'air', linewidth=2)\n",
    "plt.plot(t, dataframe_jour['Rosee'], 'r--',label='Temperature du point de rosee', linewidth=2)\n",
    "plt.plot(t, dataframe_jour['Chill'], 'g--',label='Wind Chill', linewidth=2)\n",
    "plt.legend(loc='upper left', ncol=1, bbox_to_anchor=(0, 1, 1, 0),fontsize =15)\n",
    "plt.ylabel('Température ($^\\circ$C)', {'color': 'black', 'fontsize': 15})\n",
    "\n",
    "plt.setp(ax1.get_xticklabels(), fontsize=15)\n",
    "plt.title('Meteogram station UQAM:'+ start_date + ' / ' + end_date, weight='bold').set_fontsize('20')\n",
    "plt.setp(ax1.get_xticklabels(), visible=False)\n",
    "\n",
    "##########  TRACE DES ACCUMULATIONS PRECIPITATION  ##########  \n",
    "# share x only\n",
    "ax2 = plt.subplot(412, sharex=ax1)\n",
    "ax2.grid(True)\n",
    "t = np.arange(0, 24, 1)\n",
    "width=1\n",
    "ax2.bar(t,dataframe_jour['Precipitation'].values,width,color='b', label='Pluie', linewidth=2)\n",
    "plt.setp(ax2.get_xticklabels(), visible=False)\n",
    "plt.ylim(0,  np.round(dataframe_jour['Precipitation'].max() ) +1)\n",
    "plt.ylabel('Accumulation (mm)', {'color': 'black', 'fontsize': 15})\n",
    "plt.legend(loc='upper left', ncol=1, bbox_to_anchor=(0, 0, 1, 1), fontsize =15)\n",
    "\n",
    "# share x only\n",
    "##### on trace l humidite\n",
    "ax2 = plt.subplot(413, sharex=ax1)\n",
    "ax2.grid(True)\n",
    "plt.plot(t, dataframe_jour['Humidite'], 'b-', linewidth=2)\n",
    "plt.setp(ax2.get_xticklabels(), visible=False)\n",
    "plt.ylabel('Humidite relative (%)', {'color': 'black', 'fontsize': 15})\n",
    "plt.legend(loc='upper left', ncol=1, bbox_to_anchor=(0, 0, 1, 1), fontsize =15)\n",
    "\n",
    "##### on trace la pression\n",
    "ax3 = plt.subplot(414, sharex=ax1)\n",
    "plt.plot(t, dataframe_jour['pressure'], 'g-', linewidth=2)\n",
    "plt.xlim(0.01, 24)\n",
    "plt.ylim(np.round(min(dataframe_jour['pressure'])) - 2, np.round(max(dataframe_jour['pressure'])) + 2)\n",
    "plt.ylabel('Pression (hPa)', {'color': 'black', 'fontsize': 15})\n",
    "plt.legend(loc='upper left', ncol=1, bbox_to_anchor=(0, 0, 1, 1), fontsize =15)\n",
    "ax3.grid(True)\n",
    "\n",
    "for label in ax3.get_yticklabels():\n",
    "    label.set_color(\"black\")\n",
    "\n",
    "ax3.set(xticks=np.arange(0,len(daylabels),1), xticklabels=daylabels) #Same as plt.xticks\n",
    "spacing = 1\n",
    "visible = ax3.xaxis.get_ticklabels()[::spacing]\n",
    "for label in ax3.xaxis.get_ticklabels():\n",
    "    if label not in visible:\n",
    "        label.set_visible(False)\n",
    "\n",
    "\n",
    "fig.autofmt_xdate()\n",
    "fig.set_size_inches(18.5, 10.5)\n",
    "fileout='Meteogram_UQAM'\n",
    "plt.savefig(fileout)\n",
    "fig.autofmt_xdate()\n"
   ]
  }
 ],
 "metadata": {
  "kernelspec": {
   "display_name": "Python 3",
   "language": "python",
   "name": "python3"
  },
  "language_info": {
   "codemirror_mode": {
    "name": "ipython",
    "version": 3
   },
   "file_extension": ".py",
   "mimetype": "text/x-python",
   "name": "python",
   "nbconvert_exporter": "python",
   "pygments_lexer": "ipython3",
   "version": "3.6.3"
  }
 },
 "nbformat": 4,
 "nbformat_minor": 2
}
