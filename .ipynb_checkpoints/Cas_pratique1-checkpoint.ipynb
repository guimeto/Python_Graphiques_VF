{
 "cells": [
  {
   "cell_type": "markdown",
   "metadata": {},
   "source": [
    "## Cas pratique 1 : données de température d'ECCC\n",
    "\n",
    "Nous avons pris en main dans les sections précédentes la librairie Pandas qui nous a permis de traiter et de manipuler des jeux de données. En combinant ceci avec les librairies Datetime et Matplotlib de Python, nous avons pu visualiser rapidement nos données.  \n",
    "\n",
    "Nous allons continuer de découvrir les fonctionnalités de ces librairies dans un cas pratique en analysant les données journalières de températures enregitrées par l'une des stations d'Environnement et Changements Climatiques Canada située à Montréal/McTavish entre la période 1948 et 2017. \n",
    "\n",
    "Pour compléter et enrichir notre analyse, une nouvelle librairie Python sera présentée:  <b>Seaborn</b>.\n",
    "\n",
    "- la librairie Seaborn est basée sur matplotlib. \n",
    "- elle permet de tracer des graphiques plus complexes\n",
    "\n",
    "Pour plus d'informations: \n",
    "\n",
    "https://jakevdp.github.io/PythonDataScienceHandbook/04.14-visualization-with-seaborn.html\n",
    "\n",
    "Ce lien présente une galerie des types de graphique pour être réaliser avec Seaborn: \n",
    "https://seaborn.pydata.org/examples/index.html\n",
    "\n",
    "\n",
    "\n",
    "### 1- Ouverture et lecture de notre série temporelle"
   ]
  },
  {
   "cell_type": "code",
   "execution_count": null,
   "metadata": {
    "collapsed": true
   },
   "outputs": [],
   "source": [
    "% matplotlib inline \n",
    "import numpy as np\n",
    "import pandas as pd\n",
    "import datetime\n",
    "from datetime import date\n",
    "import numpy as np \n",
    "df = pd.DataFrame()\n",
    "\n",
    "# Ouverture du fichier text  \n",
    "with open('./data/MONTREAL_tasmoy_1948_2017.txt', 'r') as file:\n",
    "     rows = file.read()\n",
    "data_EC_Montreal = [float(row) for row in rows.split()]"
   ]
  },
  {
   "cell_type": "markdown",
   "metadata": {},
   "source": [
    "Nous avons crée un champs unidirectionnel mais nous avons aucune information temporelle dans notre fichier. \n",
    "Sachant que notre enregistrement couvre la période 1948 - 2017 , nous allons formater nos dates avec le module <b>datetime</b> de Python. "
   ]
  },
  {
   "cell_type": "code",
   "execution_count": null,
   "metadata": {
    "scrolled": true
   },
   "outputs": [],
   "source": [
    "# Nous savons que la série temporelle commence le 1er janvier 1948 et se termine le 31 décembre 2017 inclusivement\n",
    "# Nous pouvons reconstruire l'index des Dataframes formaté en objets DateTime.\n",
    "start = date(1948, 1, 1)\n",
    "end = date(2017, 12, 31)\n",
    "delta=(end-start) \n",
    "nb_days = delta.days + 1 \n",
    "rng = pd.date_range(start, periods=nb_days, freq='D')\n",
    "\n",
    "# On va utliser l'objet datetime comme index de notre DataFrame\n",
    "df['datetime'] = rng\n",
    "df.index = df['datetime'] \n",
    "\n",
    "df['Temperature Montreal'] = data_EC_Montreal\n",
    "df.head()"
   ]
  },
  {
   "cell_type": "code",
   "execution_count": null,
   "metadata": {
    "collapsed": true
   },
   "outputs": [],
   "source": [
    "#dir(df) # la fonction dir() permet de lister les fonctions qui sont applicables à notre objet DataFrame"
   ]
  },
  {
   "cell_type": "markdown",
   "metadata": {},
   "source": [
    "Nous avons assigné notre série temporelle dans un DataFrame de Pandas puis nous avons formater la date sous forme d'objet Datetime. \n",
    "\n",
    "Il est maintenant facile de manipuler le jeu de données et d'appliquer quelques fonctions simples.  "
   ]
  },
  {
   "cell_type": "markdown",
   "metadata": {},
   "source": [
    "### 2- Calcul d'indices sur les données de température \n",
    "\n",
    "- On va développer et appliquer une fonction pour calculer les quantiles de notre distribution\n",
    "\n",
    "- En rééchantillonnant notre série avec la méthode <b>.resample()</b> de Pandas, nous verrons comment appliquer des fonctions natives de numpy et appliquer notre propre fonction."
   ]
  },
  {
   "cell_type": "code",
   "execution_count": null,
   "metadata": {
    "collapsed": true
   },
   "outputs": [],
   "source": [
    "# Création de notre indice qui calcule le quantile de la distribution\n",
    "# On utilise la fonction .percentile() de numpy\n",
    "def percentile(n):\n",
    "    def percentile_(x):\n",
    "        return np.nanpercentile(x, n)\n",
    "    percentile_.__name__ = 'percentile_%s' % n\n",
    "    return percentile_         "
   ]
  },
  {
   "cell_type": "markdown",
   "metadata": {},
   "source": [
    "- Les méthodes <b>.resample()</b> et <b>.agg()</b> de Pandas \n",
    "\n",
    "La méthode <b>.resample()</b> est très utile pour la conversion de fréquence et le rééchantillonnage des séries chronologiques. L'objet (ici DataFrame) doit avoir un index de type data/heure (DatetimeIndex) pour pouvoir être utiliser.\n",
    "Plusieurs fréquences de rééchantillonnage sont mises à disposition (horaire, semaine, mois, saison, année...)\n",
    "\n",
    "https://pandas.pydata.org/pandas-docs/stable/reference/api/pandas.Series.resample.html\n",
    "\n",
    "\n",
    "La méthode <b>.agg()</b> est utilisée pour l'aggrégation des données suivant une liste de fonctions à appliquer à chaque colonne, ce qui produit un résultat aggrégé avec un index hiérarchique.\n",
    "\n",
    "https://pandas.pydata.org/pandas-docs/stable/reference/api/pandas.DataFrame.agg.html\n",
    "\n",
    "Dans notre exemple, on va rééchantilloner notre jeu de données par mois et calculer pour chaque mois la moyenne, le minimum, le maximum et les 90ème et 95ème quantiles."
   ]
  },
  {
   "cell_type": "code",
   "execution_count": null,
   "metadata": {},
   "outputs": [],
   "source": [
    "resamp_Montreal = df.resample('M').agg([np.mean, np.min, np.max, percentile(90), percentile(95)])\n",
    "resamp_Montreal.head()"
   ]
  },
  {
   "cell_type": "code",
   "execution_count": null,
   "metadata": {},
   "outputs": [],
   "source": [
    "resamp_Montreal = resamp_Montreal.loc[:,'Temperature Montreal'] \n",
    "resamp_Montreal.head() # simple étape pour supprimer le nom de la colonne 'Temperature Montreal'"
   ]
  },
  {
   "cell_type": "markdown",
   "metadata": {},
   "source": [
    "### 3- Quelques exemples de graphiques avec la librairie Seaborn\n",
    "\n",
    "Maintenant que nous avons calculer quelques statistiques sur notre DataFrame, nous allons utiliser la librairie Seaborn de Python. \n",
    "\n",
    "\n",
    "<img src=\"./seaborn.png\" alt=\"Seaborn\" width=\"60%\" height=\"70%\">\n",
    "\n",
    "\n",
    "- Exemple: Heatmap\n",
    "\n",
    "https://seaborn.pydata.org/generated/seaborn.heatmap.html\n",
    "\n",
    "\n",
    "On voudrait par exemple observer la variation de la température moyenne meuselle pour tous les mois de l'année et toutes les années. On va pour cela définir deux nouvelles colonnes dans notre DataFrame dans lesquelles seront assignées uniquement les années et les mois respectivement. "
   ]
  },
  {
   "cell_type": "code",
   "execution_count": null,
   "metadata": {
    "collapsed": true
   },
   "outputs": [],
   "source": [
    "resamp_Montreal['year']  = resamp_Montreal.index.year\n",
    "resamp_Montreal['MonthNo'] = resamp_Montreal.index.month"
   ]
  },
  {
   "cell_type": "code",
   "execution_count": null,
   "metadata": {},
   "outputs": [],
   "source": [
    "resamp_Montreal.head()"
   ]
  },
  {
   "cell_type": "markdown",
   "metadata": {},
   "source": [
    "- La méthode <b>.pivot_table()</b>: cette méthode permet de croiser des tableaux dynamiquement . \n",
    "\n",
    "https://pandas.pydata.org/pandas-docs/stable/reference/api/pandas.pivot_table.html\n",
    "\n",
    "On voudrait visualiser uniquement les températures moyennes mensuelles, donc travailler avec la colonne 'mean', mettre les année en Index et avoir un mois par colonne.  La méthode <b>.pivot_table()</b> nous permet d'effectuer cette opération. "
   ]
  },
  {
   "cell_type": "code",
   "execution_count": null,
   "metadata": {
    "scrolled": true
   },
   "outputs": [],
   "source": [
    "Montreal_pivot = resamp_Montreal.pivot_table(values='mean',index='year',columns=['MonthNo'])\n",
    "Montreal_pivot.head()"
   ]
  },
  {
   "cell_type": "markdown",
   "metadata": {},
   "source": [
    "On applique enfin la fonction <b>.heatmap()</b> sur notre DataFrame. "
   ]
  },
  {
   "cell_type": "code",
   "execution_count": null,
   "metadata": {},
   "outputs": [],
   "source": [
    "import seaborn as sns \n",
    "import matplotlib.pyplot as plt  \n",
    "sns.heatmap(Montreal_pivot)\n",
    "plt.show()"
   ]
  },
  {
   "cell_type": "markdown",
   "metadata": {},
   "source": [
    "On peut améliorer notre affichage."
   ]
  },
  {
   "cell_type": "code",
   "execution_count": null,
   "metadata": {
    "scrolled": true
   },
   "outputs": [],
   "source": [
    "ax = plt.axes()\n",
    "sns.heatmap(Montreal_pivot, cmap='RdYlGn_r', linewidths=0.5, annot=True , ax = ax,vmin=-30, vmax=30,center=0, fmt='.1f',yticklabels=True, cbar_kws={'label': 'Celcius'})\n",
    "ax.set_title('Température moyenne', weight='bold', fontsize=\"x-large\")\n",
    "figure = ax.get_figure()    \n",
    "figure.set_size_inches(22, 15) \n",
    "plt.show()"
   ]
  },
  {
   "cell_type": "markdown",
   "metadata": {},
   "source": [
    "- Autres exemples de graphiques: Boxplot,  violin plot, line plot \n",
    "\n",
    "https://seaborn.pydata.org/generated/seaborn.boxplot.html\n",
    "\n",
    "https://seaborn.pydata.org/generated/seaborn.violinplot.html\n",
    "\n",
    "https://seaborn.pydata.org/generated/seaborn.lineplot.html"
   ]
  },
  {
   "cell_type": "markdown",
   "metadata": {},
   "source": [
    "Dans un premier temps, on crée une nouvelle variable contenant les mois mais en chaîne de caractères. Pour cela on applique la méthode <b>.strftime()</b> de datetime. "
   ]
  },
  {
   "cell_type": "code",
   "execution_count": null,
   "metadata": {
    "collapsed": true
   },
   "outputs": [],
   "source": [
    "resamp_Montreal['month'] = resamp_Montreal.index.strftime(\"%b\")"
   ]
  },
  {
   "cell_type": "code",
   "execution_count": null,
   "metadata": {},
   "outputs": [],
   "source": [
    "resamp_Montreal.head()"
   ]
  },
  {
   "cell_type": "code",
   "execution_count": null,
   "metadata": {
    "scrolled": true
   },
   "outputs": [],
   "source": [
    "ax = plt.axes()\n",
    "sns.boxplot(x=\"month\", y=\"mean\", data=resamp_Montreal, palette=\"Set1\")  \n",
    "figure = ax.get_figure()    \n",
    "figure.set_size_inches(12, 8) \n",
    "plt.show()"
   ]
  },
  {
   "cell_type": "code",
   "execution_count": null,
   "metadata": {
    "scrolled": true
   },
   "outputs": [],
   "source": [
    "ax = plt.axes()\n",
    "sns.violinplot(x=\"month\", y=\"mean\", data=resamp_Montreal, palette=\"Set1\")  \n",
    "figure = ax.get_figure()    \n",
    "figure.set_size_inches(12, 8)\n",
    "plt.show()"
   ]
  },
  {
   "cell_type": "code",
   "execution_count": null,
   "metadata": {},
   "outputs": [],
   "source": [
    "ax = plt.axes()\n",
    "sns.lineplot(x=resamp_Montreal.index.year, y=\"mean\",\n",
    "             hue=\"month\",\n",
    "             data=resamp_Montreal,\n",
    "             palette=\"tab10\")\n",
    "figure = ax.get_figure()    \n",
    "figure.set_size_inches(12, 8)\n",
    "plt.show()"
   ]
  },
  {
   "cell_type": "code",
   "execution_count": null,
   "metadata": {},
   "outputs": [],
   "source": [
    "sns.catplot(x=\"month\", y=\"percentile_90\", data=resamp_Montreal, kind=\"swarm\")\n",
    "plt.show()"
   ]
  },
  {
   "cell_type": "markdown",
   "metadata": {},
   "source": [
    "- On peut combiner plusieurs graphiques Seaborn:"
   ]
  },
  {
   "cell_type": "code",
   "execution_count": null,
   "metadata": {
    "scrolled": true
   },
   "outputs": [],
   "source": [
    "ax = plt.axes()\n",
    "ax1 = plt.subplot2grid((2, 2), (0, 0), colspan=2)\n",
    "sns.lineplot(x=resamp_Montreal.index.year, y=\"mean\", hue=\"month\", data=resamp_Montreal, palette=\"tab10\")\n",
    "ax2 = plt.subplot2grid((2, 2), (1, 0), colspan=1)\n",
    "sns.boxplot(x=\"month\", y=\"mean\", data=resamp_Montreal, palette=\"tab10\") \n",
    "ax3 = plt.subplot2grid((2, 2), (1, 1), colspan=1)\n",
    "sns.violinplot(x=\"month\", y=\"mean\", data=resamp_Montreal, palette=\"tab10\") \n",
    "figure = ax.get_figure()    \n",
    "figure.set_size_inches(12, 8) \n",
    "plt.show()"
   ]
  },
  {
   "cell_type": "markdown",
   "metadata": {},
   "source": [
    "### 4- Fonction groupby\n",
    "\n",
    "Nous avons vu dans un notebook précédent la méthode <b>.groupby()</b> de Pandas.\n",
    "\n",
    "https://www.tutorialspoint.com/python_pandas/python_pandas_groupby.htm\n",
    "\n",
    "Cette méthode est très utile en la combinant avec des objets datetime.\n",
    "\n",
    "Reprenons notre dataframe rééchantillonné précédemment. \n"
   ]
  },
  {
   "cell_type": "code",
   "execution_count": null,
   "metadata": {},
   "outputs": [],
   "source": [
    "resamp_Montreal.head()"
   ]
  },
  {
   "cell_type": "markdown",
   "metadata": {},
   "source": [
    "On souhaiter grouper notre dataframe par mois avec la méthode <b>.groupeby()</b>"
   ]
  },
  {
   "cell_type": "code",
   "execution_count": null,
   "metadata": {
    "collapsed": true
   },
   "outputs": [],
   "source": [
    "resamp_Montreal_grouped  = resamp_Montreal.groupby(\"month\") \n",
    "#resamp_Montreal_grouped.groups     # Pour voir les groupes"
   ]
  },
  {
   "cell_type": "markdown",
   "metadata": {},
   "source": [
    "- Pour itérer à travers les groupe: "
   ]
  },
  {
   "cell_type": "code",
   "execution_count": null,
   "metadata": {
    "collapsed": true
   },
   "outputs": [],
   "source": [
    "#for MonthNo,group in resamp_Montreal_grouped :                              \n",
    "#    print(MonthNo)\n",
    "#    print(group)\n",
    "    "
   ]
  },
  {
   "cell_type": "markdown",
   "metadata": {},
   "source": [
    "- Pour sélectionner un groupe: méthode get_group() "
   ]
  },
  {
   "cell_type": "code",
   "execution_count": null,
   "metadata": {},
   "outputs": [],
   "source": [
    "# nous avons groupé notre DataFrame par mois suivant l'index \"month\"\n",
    "# la méthode .get_group() nous permet de sélectionner tout le sous-groupe correspondant. \n",
    "resamp_Montreal_grouped.get_group('Dec').head()"
   ]
  },
  {
   "cell_type": "markdown",
   "metadata": {},
   "source": [
    "- Aggrégation: Une fonction agrégée renvoie une seule valeur agrégée pour chaque groupe. \n",
    "\n",
    "Une fois le groupe créé, plusieurs opérations d'aggrégation peuvent être effectuées sur les données groupées.\n"
   ]
  },
  {
   "cell_type": "code",
   "execution_count": null,
   "metadata": {},
   "outputs": [],
   "source": [
    "# On va cacluler la moyenne de la variable 'percentile_90' pour chaque groupe. \n",
    "resamp_Montreal_grouped['percentile_90'].agg(np.mean)"
   ]
  },
  {
   "cell_type": "code",
   "execution_count": null,
   "metadata": {
    "collapsed": true
   },
   "outputs": [],
   "source": [
    "#resamp_Montreal_grouped['percentile_90'].agg(np.size)"
   ]
  },
  {
   "cell_type": "markdown",
   "metadata": {},
   "source": [
    "### 5- Cas pratique: \n",
    "\n",
    "On va calculer la climatologie mensuelle (1981-2010) de la température moyenne pour chaque mois  et calculer ensuite l'anomalie inter-annuelle de l'ensemble de la série\n",
    "\n",
    "\n",
    "### 1- Calcul de la climatologie 1981-2010\n",
    "\n",
    "#### Méthode 1 :  on groupe par mois et on applique une  fonction avec la méthode .apply() sur la colonne 'year' "
   ]
  },
  {
   "cell_type": "code",
   "execution_count": null,
   "metadata": {
    "collapsed": true
   },
   "outputs": [],
   "source": [
    "grouped  = resamp_Montreal.groupby(\"MonthNo\") \n",
    "#grouped.groups"
   ]
  },
  {
   "cell_type": "markdown",
   "metadata": {},
   "source": [
    "La méthode <b>.apply()</b> nous perment d'appliquer une fonction lambda pour filtrer nos données entre 1981 et 2010 sur la colonne/ variable 'year'  et appliquer une simple moyenne sur la série temporelle. "
   ]
  },
  {
   "cell_type": "code",
   "execution_count": null,
   "metadata": {},
   "outputs": [],
   "source": [
    "Clim_1981_2010=grouped.apply(lambda x: x['mean'][(x['year']>=1981) & (x['year']<=2010)].mean())\n",
    "Clim_1981_2010.head()"
   ]
  },
  {
   "cell_type": "markdown",
   "metadata": {},
   "source": [
    "#### Méthode 2 :  on filtre directement les données avec l'index DateTime puis on groupe par mois \n",
    "\n",
    "On peut se servir de l'index de format DateTime pour filtrer nos données entre 1981-2010.  E\n",
    "\n",
    "Ensuite avec la méthode <b>groupeby()</b>, on va classer notre DataFrame par mois.  "
   ]
  },
  {
   "cell_type": "code",
   "execution_count": null,
   "metadata": {
    "collapsed": true
   },
   "outputs": [],
   "source": [
    "df_montreal_1981_2010 = resamp_Montreal[(resamp_Montreal.index.get_level_values(0) >= '1981' ) & (resamp_Montreal.index.get_level_values(0) < '2011' )]\n",
    "grouped_1981_2010 = df_montreal_1981_2010.groupby(\"MonthNo\")  \n",
    "#grouped_1981_2010.head()"
   ]
  },
  {
   "cell_type": "markdown",
   "metadata": {},
   "source": [
    "On applique avec la méthode d'aggrégation la fonction <b>numpy.nanmean()</b> sur la colonne 'mean'."
   ]
  },
  {
   "cell_type": "code",
   "execution_count": null,
   "metadata": {},
   "outputs": [],
   "source": [
    "Clim_1981_2010 = grouped_1981_2010['mean'].agg(np.nanmean)\n",
    "Clim_1981_2010"
   ]
  },
  {
   "cell_type": "markdown",
   "metadata": {},
   "source": [
    "### 2- Calcul des anomalies inter-annuelles"
   ]
  },
  {
   "cell_type": "markdown",
   "metadata": {},
   "source": [
    "On reprend notre DataFrame d'origine pour travailler avec des moyennes mensuelles. Pour chaque mois on soustrait la climatologie mensuelle correspondante."
   ]
  },
  {
   "cell_type": "code",
   "execution_count": null,
   "metadata": {
    "collapsed": true
   },
   "outputs": [],
   "source": [
    "#Clim_1981_2010.values[0]\n",
    "Monthly_mean = df.resample('M').mean()\n",
    "#Monthly_mean"
   ]
  },
  {
   "cell_type": "code",
   "execution_count": null,
   "metadata": {},
   "outputs": [],
   "source": [
    "anomaly = pd.DataFrame()\n",
    "for m in range(1,13,1):\n",
    "    anomaly = anomaly.append(Monthly_mean[Monthly_mean.index.month==m]-Clim_1981_2010.values[m-1])\n",
    "#anomaly = anomaly.sort_index() \n",
    "#anomaly.to_csv('test.csv')\n",
    "anomaly.head()"
   ]
  },
  {
   "cell_type": "markdown",
   "metadata": {},
   "source": [
    "### 3- On va tracer la variabilité inter-annuelle de l'anomalie mensuelle du mois de Décembre entre 1948 et 2017"
   ]
  },
  {
   "cell_type": "code",
   "execution_count": null,
   "metadata": {},
   "outputs": [],
   "source": [
    "anomaly['year']  = anomaly.index.year\n",
    "anomaly['MonthNo'] = anomaly.index.month\n",
    "anomaly.head()"
   ]
  },
  {
   "cell_type": "code",
   "execution_count": null,
   "metadata": {
    "collapsed": true
   },
   "outputs": [],
   "source": [
    "grouped_anomaly = anomaly.groupby(\"MonthNo\") \n",
    "#grouped_anomaly.groups"
   ]
  },
  {
   "cell_type": "code",
   "execution_count": null,
   "metadata": {},
   "outputs": [],
   "source": [
    "anomaly_dec = grouped_anomaly.get_group(12)['Temperature Montreal'][:]\n",
    "anomaly_dec.head()"
   ]
  },
  {
   "cell_type": "markdown",
   "metadata": {},
   "source": [
    "- On va tracer la régression linéaire du premier ordre sur la période 1981-2010 pour voir si nous avons une tendance. \n",
    "On utilise pour cela la fonction numpy <b>numpy.polyfit()</b>.\n",
    "\n",
    "https://docs.scipy.org/doc/numpy-1.15.0/reference/generated/numpy.polyfit.html"
   ]
  },
  {
   "cell_type": "code",
   "execution_count": null,
   "metadata": {
    "collapsed": true
   },
   "outputs": [],
   "source": [
    "anomaly_dec_1981_2010 = anomaly_dec[(anomaly_dec.index.get_level_values(0) >= '1981' ) & (anomaly_dec.index.get_level_values(0) <= '2011' )]\n",
    "#anomaly_dec_1981_2010"
   ]
  },
  {
   "cell_type": "code",
   "execution_count": null,
   "metadata": {},
   "outputs": [],
   "source": [
    "x = np.arange(anomaly_dec_1981_2010.index.size)\n",
    "fit = np.polyfit(x, anomaly_dec_1981_2010[:].values, 1)\n",
    "m,b = np.polyfit(x, anomaly_dec_1981_2010[:].values, 1)\n",
    "fit_fn = np.poly1d(fit)"
   ]
  },
  {
   "cell_type": "code",
   "execution_count": null,
   "metadata": {
    "scrolled": true
   },
   "outputs": [],
   "source": [
    "fig = plt.figure(figsize=(12, 8))\n",
    "plt.plot(anomaly_dec_1981_2010.index, fit_fn(x), c='r',ls='-',lw=3.,label=\"$y=mx+b$\")\n",
    "plt.plot(anomaly_dec.index, anomaly_dec[:].values)\n",
    "plt.legend(loc=1, borderaxespad=0.)\n",
    "plt.show()\n",
    "m"
   ]
  },
  {
   "cell_type": "markdown",
   "metadata": {},
   "source": [
    "## Exercice : Exercice sur la librairie Pandas \n",
    "\n",
    "## Objectifs: Calculer et tracer les Degrés Jours pour la station de montréal. \n",
    "\n",
    "1- Ouvrir et lire le fichier \"MONTREAL_tasmoy_1948_2017.txt\"\n",
    "\n",
    "2- Définir un index Datetime sachant que les données couvrent la période entre le 01 janvier 1948 et le 31 décembre 2017 \n",
    "\n",
    "3- Écrire une fonction DG0 qui calcule le nombre de Degrés jours par an\n",
    "\n",
    "4- Calculer pour chaque année les températures moyenne, minimale et maximale ainsi que le nombre de dégrés jours\n",
    "\n",
    "5- Visualiser l'indice \n",
    "\n",
    "\n",
    "### Corrigé de l'exercice:"
   ]
  },
  {
   "cell_type": "markdown",
   "metadata": {},
   "source": [
    "1- Ouvrir et lire le fichier \"MONTREAL_tasmoy_1948_2017.txt\""
   ]
  },
  {
   "cell_type": "code",
   "execution_count": null,
   "metadata": {
    "collapsed": true
   },
   "outputs": [],
   "source": [
    "import numpy as np\n",
    "with open('./data/MONTREAL_tasmoy_1948_2017.txt', 'r') as file:\n",
    "     rows = file.read()\n",
    "data_EC_Montreal = [float(row) for row in rows.split()]  "
   ]
  },
  {
   "cell_type": "markdown",
   "metadata": {},
   "source": [
    "2- Définir un index Datetime sachant que les données couvrent la période entre le 01 janvier 1948 et le 31 décembre 2017 "
   ]
  },
  {
   "cell_type": "code",
   "execution_count": null,
   "metadata": {
    "collapsed": true
   },
   "outputs": [],
   "source": [
    "import pandas as pd\n",
    "import datetime\n",
    "from datetime import date\n",
    "df = pd.DataFrame()\n",
    "\n",
    "start = date(1948, 1, 1)\n",
    "end = date(2017, 12, 31)\n",
    "delta=(end-start) \n",
    "nb_days = delta.days + 1 \n",
    "rng = pd.date_range(start, periods=nb_days, freq='D')\n",
    "\n",
    "df['datetime'] = rng\n",
    "df.index = df['datetime'] \n",
    "df['Temperature Montreal'] = data_EC_Montreal"
   ]
  },
  {
   "cell_type": "markdown",
   "metadata": {},
   "source": [
    "3- Écrire une fonction DG0 qui calcule le nombre de Degrés jours par an"
   ]
  },
  {
   "cell_type": "code",
   "execution_count": null,
   "metadata": {
    "collapsed": true
   },
   "outputs": [],
   "source": [
    "# valeur moyenne de l'intensite de precipitation pour les jours humides (PR sup a 1mm) (moins de 20 % de valeurs manquantes)\n",
    "def DG0(S):  \n",
    "     ind_DGO=[]\n",
    "     ind_DGO = sum(x for x in S if x >= 0)\n",
    "     return ind_DGO  "
   ]
  },
  {
   "cell_type": "markdown",
   "metadata": {},
   "source": [
    "4- Appliquer cette fonction sur les données de notre Dataframe "
   ]
  },
  {
   "cell_type": "code",
   "execution_count": null,
   "metadata": {},
   "outputs": [],
   "source": [
    "resamp = df.resample('AS')\n",
    "dataset = resamp.agg([np.mean, np.min, np.max, DG0])\n",
    "dataset.head()"
   ]
  },
  {
   "cell_type": "markdown",
   "metadata": {},
   "source": [
    "5- Visualisation de l'indice"
   ]
  },
  {
   "cell_type": "code",
   "execution_count": null,
   "metadata": {
    "collapsed": true
   },
   "outputs": [],
   "source": [
    "dataset.columns = dataset.columns.droplevel(0)"
   ]
  },
  {
   "cell_type": "code",
   "execution_count": null,
   "metadata": {},
   "outputs": [],
   "source": [
    "dataset['DG0'].head()"
   ]
  },
  {
   "cell_type": "code",
   "execution_count": null,
   "metadata": {},
   "outputs": [],
   "source": [
    "import matplotlib.pyplot as plt\n",
    "dataset['DG0'].plot(figsize=(12,5))\n",
    "plt.show()"
   ]
  },
  {
   "cell_type": "code",
   "execution_count": null,
   "metadata": {
    "collapsed": true
   },
   "outputs": [],
   "source": [
    "# valeur moyenne de l'intensite de precipitation pour les jours humides (PR sup a 1mm) (moins de 20 % de valeurs manquantes)\n",
    "def DG0bis(S):  \n",
    "     ind_DGObis=[]      \n",
    "     S_no_nan = S[~np.isnan(S)]\n",
    "     N = len(S)\n",
    "     N2 = len(S_no_nan)\n",
    "     if ((N2/N) < 0.8): \n",
    "         ind_DGObis = np.empty(1)\n",
    "         ind_DGObis = np.nan\n",
    "     else:       \n",
    "         ind_DGObis = sum(x for x in S if x >= 0)\n",
    "     return ind_DGObis "
   ]
  },
  {
   "cell_type": "code",
   "execution_count": null,
   "metadata": {},
   "outputs": [],
   "source": [
    "dataset = resamp.agg([np.mean, np.min, np.max, DG0, DG0bis])\n",
    "dataset.head()"
   ]
  },
  {
   "cell_type": "code",
   "execution_count": null,
   "metadata": {
    "collapsed": true
   },
   "outputs": [],
   "source": [
    "dataset.columns = dataset.columns.droplevel(0)"
   ]
  },
  {
   "cell_type": "code",
   "execution_count": null,
   "metadata": {},
   "outputs": [],
   "source": [
    "dataset['DG0'].plot(figsize=(12,5))\n",
    "dataset['DG0bis'].plot(figsize=(12,5))\n",
    "plt.show()"
   ]
  },
  {
   "cell_type": "markdown",
   "metadata": {},
   "source": [
    "### Bonus Code pour calculer une tendance avec le test de Mann-Kendall"
   ]
  },
  {
   "cell_type": "code",
   "execution_count": null,
   "metadata": {
    "collapsed": true
   },
   "outputs": [],
   "source": [
    "import numpy as np  \n",
    "from scipy.stats import norm, mstats\n",
    "\n",
    "def mk_test(x, alpha = 0.05):  \n",
    "    \"\"\"   \n",
    "    Input:\n",
    "        x:   a vector of data\n",
    "        alpha: significance level (0.05 default)\n",
    "\n",
    "    Output:\n",
    "        trend: tells the trend (increasing, decreasing or no trend)\n",
    "        h: True (if trend is present) or False (if trend is absence)\n",
    "        p: p value of the significance test\n",
    "        z: normalized test statistics \n",
    "\n",
    "    Examples\n",
    "    --------\n",
    "      >>> x = np.random.rand(100)\n",
    "      >>> trend,h,p,z = mk_test(x,0.05) \n",
    "    \"\"\"\n",
    "    x = x[~np.isnan(x)] # remove nan\n",
    "    n = len(x)\n",
    "\n",
    "    # calculate S \n",
    "    s = 0\n",
    "    for k in range(n-1):\n",
    "        for j in range(k+1,n):\n",
    "            s += np.sign(x[j] - x[k])\n",
    "\n",
    "    # calculate the unique data\n",
    "    unique_x = np.unique(x)\n",
    "    g = len(unique_x)\n",
    "\n",
    "    # calculate the var(s)\n",
    "    if n == g: # there is no tie\n",
    "        var_s = (n*(n-1)*(2*n+5))/18\n",
    "    else: # there are some ties in data\n",
    "        tp = np.zeros(unique_x.shape)\n",
    "        for i in range(len(unique_x)):\n",
    "            tp[i] = sum(unique_x[i] == x)\n",
    "        var_s = (n*(n-1)*(2*n+5) + np.sum(tp*(tp-1)*(2*tp+5)))/18\n",
    "\n",
    "    if s>0:\n",
    "        z = (s - 1)/np.sqrt(var_s)\n",
    "    elif s == 0:\n",
    "            z = 0\n",
    "    elif s<0:\n",
    "        z = (s + 1)/np.sqrt(var_s)\n",
    "\n",
    "    # calculate the p_value\n",
    "    p = 2*(1-norm.cdf(abs(z))) # two tail test\n",
    "    h = abs(z) > norm.ppf(1-alpha/2) \n",
    "\n",
    "    if (z<0) and h:\n",
    "        trend = 'decreasing'\n",
    "    elif (z>0) and h:\n",
    "        trend = 'increasing'\n",
    "    else:\n",
    "        trend = 'no trend'\n",
    "\n",
    "    return trend, h, p, z"
   ]
  },
  {
   "cell_type": "code",
   "execution_count": null,
   "metadata": {},
   "outputs": [],
   "source": [
    "for m in range(1,13):    \n",
    "    anomaly_to_test = anomaly[anomaly.index.month==m]\n",
    "    trend = anomaly_to_test['1961':'2010'].values \n",
    "    test_trend,h,p,z = mk_test(trend,alpha=0.05)  \n",
    "    print(test_trend, 'during:', m)  \n",
    "    print(z, p) "
   ]
  },
  {
   "cell_type": "code",
   "execution_count": null,
   "metadata": {},
   "outputs": [],
   "source": [
    "test_trend,h,p,z = mk_test(trend,alpha=0.05)  \n",
    "print(test_trend, h)  \n",
    "print(z, p)  "
   ]
  },
  {
   "cell_type": "code",
   "execution_count": null,
   "metadata": {
    "collapsed": true
   },
   "outputs": [],
   "source": []
  },
  {
   "cell_type": "code",
   "execution_count": null,
   "metadata": {
    "collapsed": true
   },
   "outputs": [],
   "source": []
  }
 ],
 "metadata": {
  "kernelspec": {
   "display_name": "Python 3",
   "language": "python",
   "name": "python3"
  },
  "language_info": {
   "codemirror_mode": {
    "name": "ipython",
    "version": 3
   },
   "file_extension": ".py",
   "mimetype": "text/x-python",
   "name": "python",
   "nbconvert_exporter": "python",
   "pygments_lexer": "ipython3",
   "version": "3.6.3"
  }
 },
 "nbformat": 4,
 "nbformat_minor": 2
}
